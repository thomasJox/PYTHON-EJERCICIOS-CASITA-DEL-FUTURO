{
 "cells": [
  {
   "cell_type": "markdown",
   "metadata": {},
   "source": [
    "## Bucles - Actividad\n",
    "*Los ejercicios propuestos a continuación presentan autocorrección. En cada uno habrá dos bloques, uno para resolver el ejercicio y otro para testear tu solución.*\n",
    "Ejemplo:"
   ]
  },
  {
   "cell_type": "code",
   "execution_count": 1,
   "metadata": {},
   "outputs": [],
   "source": [
    "def ejemplo():\n",
    "    return \"ejemplo\""
   ]
  },
  {
   "cell_type": "code",
   "execution_count": 2,
   "metadata": {},
   "outputs": [
    {
     "name": "stdout",
     "output_type": "stream",
     "text": [
      "\u001b[92mMuy bien!\n"
     ]
    }
   ],
   "source": [
    "# TEST EJEMPLO\n",
    "\n",
    "try:\n",
    "    assert ejemplo() == \"ejemplo\", \"ejemplo() debería retornar 'ejemplo'\"\n",
    "    print('\\033[92m' + 'Muy bien!')\n",
    "except AssertionError as e:\n",
    "    print('\\033[91m' + str(e))"
   ]
  },
  {
   "cell_type": "markdown",
   "metadata": {},
   "source": [
    "1. Escribir un programa que calcule la suma de los primeros n números naturales y retorne el resultado"
   ]
  },
  {
   "cell_type": "code",
   "execution_count": 4,
   "metadata": {},
   "outputs": [
    {
     "name": "stdout",
     "output_type": "stream",
     "text": [
      "120\n"
     ]
    }
   ],
   "source": [
    "def ejercicio_1(n):\n",
    "    return n * (n + 1) // 2\n",
    "\n",
    "print(ejercicio_1(15))"
   ]
  },
  {
   "cell_type": "code",
   "execution_count": 5,
   "metadata": {},
   "outputs": [
    {
     "name": "stdout",
     "output_type": "stream",
     "text": [
      "\u001b[92m✓ Ejercicio correcto!\n"
     ]
    }
   ],
   "source": [
    "# TEST EJERCICIO 1\n",
    "\n",
    "try:\n",
    "    assert ejercicio_1(10) == 55\n",
    "    assert ejercicio_1(5) == 15\n",
    "    print('\\033[92m' + '✓ Ejercicio correcto!')\n",
    "except AssertionError as e:\n",
    "    print('\\033[91m' + \"x Ejercicio incorrecto\")"
   ]
  },
  {
   "cell_type": "markdown",
   "metadata": {},
   "source": [
    "2. Escribe un programa que cuente cuántos números pares hay en un rango del 1 al n, **incluyendo n**.\n",
    "Debe retornar el número de números pares encontrados."
   ]
  },
  {
   "cell_type": "code",
   "execution_count": 8,
   "metadata": {},
   "outputs": [
    {
     "name": "stdout",
     "output_type": "stream",
     "text": [
      "5\n"
     ]
    }
   ],
   "source": [
    "def ejercicio_2(n):\n",
    "    contador_pares = 0\n",
    "    for i in range(1, n + 1):\n",
    "        if i % 2 == 0:\n",
    "            contador_pares += 1\n",
    "    return contador_pares\n",
    "\n",
    "print(ejercicio_2(10))"
   ]
  },
  {
   "cell_type": "code",
   "execution_count": 9,
   "metadata": {},
   "outputs": [
    {
     "name": "stdout",
     "output_type": "stream",
     "text": [
      "\u001b[91mx Ejercicio incorrecto\n"
     ]
    }
   ],
   "source": [
    "# TEST EJERCICIO 2\n",
    "try:\n",
    "    assert ejercicio_2(10) == 5  # 2, 4, 6, 8, 10 son pares\n",
    "    assert ejercicio_2(15) == 8  # 2, 4, 6, 8, 10, 12, 14 son pares\n",
    "    print('\\033[92m' + '✓ Ejercicio correcto!')\n",
    "except AssertionError as e:\n",
    "    print('\\033[91m' + \"x Ejercicio incorrecto\")"
   ]
  },
  {
   "cell_type": "markdown",
   "metadata": {},
   "source": [
    "3. Escribe un programa que reciba una cadena de texto y cuente cuántas vocales contiene.\n",
    "Debe retornar el número total de vocales. Las vocales pueden ser mayúsculas o minúsculas."
   ]
  },
  {
   "cell_type": "code",
   "execution_count": 10,
   "metadata": {},
   "outputs": [
    {
     "name": "stdout",
     "output_type": "stream",
     "text": [
      "la cadena de texto contiene 6 vocales. \n"
     ]
    }
   ],
   "source": [
    "def ejercicio_3(texto):\n",
    "    texto = texto.lower()\n",
    "    contador = 0\n",
    "    vocales = {'a','e','i','o','u'}\n",
    "    \n",
    "    for caracter in texto:\n",
    "        if caracter in vocales:\n",
    "            contador += 1\n",
    "            \n",
    "    return contador\n",
    "\n",
    "texto= input('ingrese una frase o oracion: ')\n",
    "total_vocales = ejercicio_3(texto)\n",
    "print(f\"la cadena de texto contiene {total_vocales} vocales. \")"
   ]
  },
  {
   "cell_type": "code",
   "execution_count": 11,
   "metadata": {},
   "outputs": [
    {
     "name": "stdout",
     "output_type": "stream",
     "text": [
      "\u001b[92m✓ Ejercicio correcto!\n"
     ]
    }
   ],
   "source": [
    "# TEST EJERCICIO 3\n",
    "try:\n",
    "    assert ejercicio_3(\"Hola, mundo\") == 4\n",
    "    assert ejercicio_3(\"AEIOUaeiou\") == 10\n",
    "    print('\\033[92m' + '✓ Ejercicio correcto!')\n",
    "except AssertionError as e:\n",
    "    print('\\033[91m' + \"x Ejercicio incorrecto\")"
   ]
  },
  {
   "cell_type": "markdown",
   "metadata": {},
   "source": [
    "4. Escribe un programa que encuentre el número más grande en una lista de números.\n",
    "Debe retornar el `'El numero mas grande es {numero}'`"
   ]
  },
  {
   "cell_type": "code",
   "execution_count": 28,
   "metadata": {},
   "outputs": [
    {
     "name": "stdout",
     "output_type": "stream",
     "text": [
      "El número más grande es 8.0\n"
     ]
    }
   ],
   "source": [
    "def ejercicio_4(lista):\n",
    "    if not lista:\n",
    "        return \"La lista está vacía\"\n",
    "    numero_mas_grande = lista[0]  # Suponemos que el primer número es el más grande\n",
    "    for numero in lista:\n",
    "        if numero > numero_mas_grande:\n",
    "            numero_mas_grande = numero\n",
    "    return f\"El número más grande es {numero_mas_grande}\"\n",
    "\n",
    "# ingresar una lista de números\n",
    "try:\n",
    "    lista = [float(x) for x in input(\"Ingrese una lista de números separados por espacios: \").split()]\n",
    "    resultado = ejercicio_4(lista)\n",
    "    print(resultado)\n",
    "except ValueError:\n",
    "    print(\"Por favor, ingrese números válidos en la lista.\")\n",
    "    "
   ]
  },
  {
   "cell_type": "code",
   "execution_count": 21,
   "metadata": {},
   "outputs": [
    {
     "name": "stdout",
     "output_type": "stream",
     "text": [
      "\u001b[91mx Ejercicio incorrecto\n"
     ]
    }
   ],
   "source": [
    "# TEST EJERCICIO 4\n",
    "\n",
    "try:\n",
    "    assert ejercicio_4([3, 8, 1, 7, 12]) == 'El numero mas grande es 12'\n",
    "    assert ejercicio_4([17, 22, 4, 9, 5, 25, 10]) == 'El numero mas grande es 25'\n",
    "    print('\\033[92m' + '✓ Ejercicio correcto!')\n",
    "except AssertionError as e:\n",
    "    print('\\033[91m' + \"x Ejercicio incorrecto\")"
   ]
  },
  {
   "cell_type": "markdown",
   "metadata": {},
   "source": [
    "5. Encontrar los números primos en un rango del 1 al n, **incluyendo n**.\n",
    "Debe retornar una lista con los números primos encontrados."
   ]
  },
  {
   "cell_type": "code",
   "execution_count": 27,
   "metadata": {},
   "outputs": [
    {
     "name": "stdout",
     "output_type": "stream",
     "text": [
      "Números primos en el rango del 1 al 9 son: [3, 5, 7]\n"
     ]
    }
   ],
   "source": [
    "def ejercicio_5(numero):\n",
    "    if numero < 2:\n",
    "        return False\n",
    "    if numero == 3:\n",
    "        return True\n",
    "    if numero % 2 == 0 or numero % 3 == 0:\n",
    "        return False\n",
    "\n",
    "    i = 5\n",
    "    while i * i <= numero:\n",
    "        if numero % i == 0 or numero % (i + 2) == 0:\n",
    "            return False\n",
    "        i += 6\n",
    "\n",
    "    return True\n",
    "\n",
    "\n",
    "def encontrar_primos_en_rango(n):\n",
    "    primos = []\n",
    "    for numero in range(1, n + 1):\n",
    "        if ejercicio_5(numero):\n",
    "            primos.append(numero)\n",
    "    return primos\n",
    "\n",
    "\n",
    "n = int(input(\"Ingrese un número entero (n): \"))\n",
    "numeros_primos = encontrar_primos_en_rango(n)\n",
    "print(\"Números primos en el rango del 1 al\", n, \"son:\", numeros_primos)"
   ]
  },
  {
   "cell_type": "code",
   "execution_count": 26,
   "metadata": {},
   "outputs": [
    {
     "name": "stdout",
     "output_type": "stream",
     "text": [
      "\u001b[91mx Ejercicio incorrecto\n"
     ]
    }
   ],
   "source": [
    "# TEST EJERCICIO 5\n",
    "\n",
    "try:\n",
    "    assert ejercicio_5(10) == [2, 3, 5, 7]\n",
    "    assert ejercicio_5(20) == [2, 3, 5, 7, 11, 13, 17, 19]\n",
    "    print('\\033[92m' + '✓ Ejercicio correcto!')\n",
    "except AssertionError as e:\n",
    "    print('\\033[91m' + \"x Ejercicio incorrecto\")"
   ]
  },
  {
   "cell_type": "markdown",
   "metadata": {},
   "source": [
    "6. Un __palíndromo__ es una palabra, número o frase que se lee igual hacia adelante que hacia atrás. Crear una funcion que reciba una cadena de texto y devuelva si dicha cadena es un palíndromo o no. *Devolver True si es un palíndromo y False si no lo es*"
   ]
  },
  {
   "cell_type": "code",
   "execution_count": 1,
   "metadata": {},
   "outputs": [
    {
     "name": "stdout",
     "output_type": "stream",
     "text": [
      "True\n",
      "False\n"
     ]
    }
   ],
   "source": [
    "def ejercicio_6(cadena):\n",
    "    cadena = cadena.replace(\" \", \"\").lower()\n",
    "    \n",
    "    return cadena == cadena[::-1]\n",
    "\n",
    "cadena1 = \"sometemos\"\n",
    "cadena2 = \"python\"\n",
    "print(ejercicio_6(cadena1))\n",
    "print(ejercicio_6(cadena2))"
   ]
  },
  {
   "cell_type": "code",
   "execution_count": 2,
   "metadata": {},
   "outputs": [
    {
     "name": "stdout",
     "output_type": "stream",
     "text": [
      "\u001b[92m✓ Ejercicio correcto!\n"
     ]
    }
   ],
   "source": [
    "# TEST EJERCICIO 6\n",
    "\n",
    "try:\n",
    "    assert ejercicio_6(\"sometemos\") == True\n",
    "    assert ejercicio_6(\"arenera\") == True\n",
    "    assert ejercicio_6(\"holamundo\") == False\n",
    "    assert ejercicio_6(\"python\") == False\n",
    "    assert ejercicio_6(\"reconocer\") == True\n",
    "    print('\\033[92m' + '✓ Ejercicio correcto!')\n",
    "except AssertionError as e:\n",
    "    print('\\033[91m' + \"x Ejercicio incorrecto\")\n",
    "    "
   ]
  },
  {
   "cell_type": "markdown",
   "metadata": {},
   "source": [
    "7. Dada una lista de nombres, crear una funcion que devuelva una lista con los nombres que empiezan con la letra recibida como parámetro."
   ]
  },
  {
   "cell_type": "code",
   "execution_count": 10,
   "metadata": {},
   "outputs": [
    {
     "name": "stdout",
     "output_type": "stream",
     "text": [
      "['Ana', 'Amanda', 'Alfredo']\n"
     ]
    }
   ],
   "source": [
    "def ejercicio_7(lista_nombres, letra):\n",
    "    #expresión de lista para filtrar los nombres\n",
    "    nombres_filtrados = [nombre for nombre in lista_nombres if nombre.startswith(letra)]\n",
    "    \n",
    "    return nombres_filtrados\n",
    "\n",
    "# Ejemplo\n",
    "lista_de_nombres = [\"Ana\", \"Juan\", \"Pedro\", \"Amanda\", \"Pablo\", \"Alfredo\"]\n",
    "letra_a_buscar = \"A\"\n",
    "\n",
    "nombres_resultantes = ejercicio_7(lista_de_nombres, letra_a_buscar)\n",
    "print(nombres_resultantes)"
   ]
  },
  {
   "cell_type": "code",
   "execution_count": null,
   "metadata": {},
   "outputs": [],
   "source": [
    "# TEST EJERCICIO 7\n",
    "\n",
    "try:\n",
    "    assert ejercicio_7(\"A\", [\"Ana\", \"Juan\", \"Pedro\", \"Amanda\", \"Pablo\", \"Alfredo\"]) == [\"Ana\", \"Amanda\", \"Alfredo\"]\n",
    "    assert ejercicio_7(\"J\", [\"Ana\", \"Juan\", \"Pedro\", \"Amanda\", \"Pablo\", \"Alfredo\"]) == [\"Juan\"]\n",
    "    assert ejercicio_7(\"P\", [\"Ana\", \"Juan\", \"Pedro\", \"Amanda\", \"Pablo\", \"Alfredo\"]) == [\"Pedro\", \"Pablo\"]\n",
    "    assert ejercicio_7(\"Z\", [\"Ana\", \"Juan\", \"Pedro\", \"Amanda\", \"Pablo\", \"Alfredo\"]) == []\n",
    "    print('\\033[92m' + '✓ Ejercicio correcto!')\n",
    "except AssertionError as e:\n",
    "    print('\\033[91m' + \"x Ejercicio incorrecto\")"
   ]
  },
  {
   "cell_type": "markdown",
   "metadata": {},
   "source": [
    "8. Crear una funcion que recibe un laberinto en forma de matriz y debe devolver la posicion de la salida del laberinto.\n",
    "\n",
    "*El laberinto es una matriz donde \"#\" representa una pared, un espacio \" \" representa un pasillo y \"S\" representa la salida*\n",
    "\n",
    "*Ejemplo:*\n",
    "\n",
    "```python\n",
    "laberinto = [[\"#\",\"#\",\"#\",\"#\",\"#\",\"#\"],\n",
    "             [\"#\",\" \",\" \",\" \",\"#\",\"#\"],\n",
    "             [\"#\",\" \",\"#\",\" \",\" \",\"#\"],\n",
    "             [\"#\",\" \",\"#\",\"#\",\" \",\"#\"],\n",
    "             [\"#\",\" \",\" \",\"#\",\" \",\"#\"],\n",
    "             [\"#\",\"#\",\"#\",\"#\",\"S\",\"#\"]]\n",
    "```\n",
    "La funcion debe recorrer elemento por elemento hasta encontrar la S y devolver la posicion de la S en forma de tupla (fila, columna).\n",
    "*Recomendación: utilizar un bucle for anidado (un for dentro de otro for) donde el primero recorra las filas y el segundo las columnas.*"
   ]
  },
  {
   "cell_type": "code",
   "execution_count": 14,
   "metadata": {},
   "outputs": [
    {
     "name": "stdout",
     "output_type": "stream",
     "text": [
      "La salida del laberinto está en la posición: (2, 3)\n"
     ]
    }
   ],
   "source": [
    "def encontrar_salida(laberinto):\n",
    "    for fila in range(len(laberinto)):\n",
    "        for columna in range(len(laberinto[0])):\n",
    "            if laberinto[fila][columna] == \"S\":\n",
    "                return (fila, columna)\n",
    "\n",
    "# Ejemplo\n",
    "laberinto_ejemplo = [\n",
    "    [\"#\", \" \", \" \", \" \", \"#\"],\n",
    "    [\"#\", \" \", \"#\", \" \", \"#\"],\n",
    "    [\"#\", \" \", \"#\", \"S\", \"#\"],\n",
    "    [\"#\", \" \", \"#\", \" \", \"#\"],\n",
    "    [\"#\", \" \", \" \", \" \", \"#\"]\n",
    "]\n",
    "\n",
    "posicion_salida = encontrar_salida(laberinto_ejemplo)\n",
    "print(\"La salida del laberinto está en la posición:\", posicion_salida)"
   ]
  },
  {
   "cell_type": "code",
   "execution_count": 15,
   "metadata": {},
   "outputs": [
    {
     "name": "stdout",
     "output_type": "stream",
     "text": [
      "\u001b[92m✓ Ejercicio correcto!\n"
     ]
    }
   ],
   "source": [
    "# TEST EJERCICIO 8\n",
    "\n",
    "try:\n",
    "    assert ejercicio_8([\n",
    "        [\"#\", \"#\", \"#\", \"#\", \"#\", \"#\", \"#\", \"#\", \"#\", \"#\", \"#\", \"#\", \"#\", \"#\", \"#\", \"#\"],\n",
    "        [\"#\", \" \", \" \", \" \", \" \", \" \", \" \", \" \", \" \", \" \", \" \", \" \", \" \", \" \", \" \", \"#\"],\n",
    "        [\"#\", \" \", \"#\", \"#\", \"#\", \"#\", \"#\", \"#\", \"#\", \"#\", \" \", \"#\", \"#\", \"#\", \" \", \"#\"],\n",
    "        [\"#\", \" \", \"#\", \" \", \" \", \" \", \" \", \" \", \" \", \"#\", \" \", \"#\", \" \", \" \", \" \", \"#\"],\n",
    "        [\"#\", \" \", \"#\", \" \", \"#\", \"#\", \"#\", \"#\", \" \", \"#\", \" \", \"#\", \" \", \"#\", \"#\", \"#\"],\n",
    "        [\"#\", \" \", \"#\", \" \", \"#\", \" \", \" \", \" \", \" \", \"#\", \" \", \"#\", \" \", \" \", \" \", \"#\"],\n",
    "        [\"#\", \" \", \"#\", \" \", \"#\", \" \", \"#\", \"#\", \"#\", \"#\", \" \", \"#\", \"#\", \"#\", \" \", \"#\"],\n",
    "        [\"#\", \" \", \"#\", \" \", \"#\", \" \", \"#\", \" \", \" \", \" \", \" \", \" \", \" \", \" \", \" \", \"#\"],\n",
    "        [\"#\", \" \", \"#\", \" \", \"#\", \" \", \"#\", \" \", \"#\", \"#\", \"#\", \"#\", \"#\", \"#\", \"#\", \"#\"],\n",
    "        [\"#\", \" \", \"#\", \" \", \"#\", \" \", \"#\", \" \", \"#\", \" \", \" \", \" \", \" \", \" \", \" \", \"#\"],\n",
    "        [\"#\", \" \", \"#\", \" \", \"#\", \" \", \"#\", \" \", \"#\", \" \", \"#\", \"#\", \"#\", \"#\", \" \", \"#\"],\n",
    "        [\"#\", \" \", \"#\", \" \", \"#\", \" \", \"#\", \" \", \"#\", \" \", \" \", \" \", \" \", \"#\", \" \", \"#\"],\n",
    "        [\"#\", \" \", \"#\", \" \", \"#\", \" \", \"#\", \" \", \"#\", \"#\", \"#\", \"#\", \" \", \"#\", \" \", \"#\"],\n",
    "        [\"#\", \" \", \"#\", \" \", \"#\", \" \", \" \", \" \", \" \", \" \", \" \", \"#\", \" \", \"#\", \" \", \"#\"],\n",
    "        [\"#\", \" \", \"#\", \" \", \"#\", \"#\", \"#\", \"#\", \"#\", \"#\", \"#\", \"#\", \" \", \"#\", \" \", \"#\"],\n",
    "        [\"#\", \" \", \" \", \" \", \" \", \" \", \" \", \" \", \" \", \" \", \" \", \" \", \" \", \"#\", \" \", \"#\"],\n",
    "        [\"#\", \"#\", \"#\", \"#\", \"#\", \"#\", \"#\", \"#\", \"#\", \"#\", \"#\", \"#\", \"#\", \"#\", \"S\", \"#\"]\n",
    "    ]) == (16, 14)\n",
    "    print('\\033[92m' + '✓ Ejercicio correcto!')\n",
    "except AssertionError as e:\n",
    "    print('\\033[91m' + \"x Ejercicio incorrecto\")\n",
    "    "
   ]
  }
 ],
 "metadata": {
  "kernelspec": {
   "display_name": "Python 3",
   "language": "python",
   "name": "python3"
  },
  "language_info": {
   "codemirror_mode": {
    "name": "ipython",
    "version": 3
   },
   "file_extension": ".py",
   "mimetype": "text/x-python",
   "name": "python",
   "nbconvert_exporter": "python",
   "pygments_lexer": "ipython3",
   "version": "3.11.6"
  }
 },
 "nbformat": 4,
 "nbformat_minor": 2
}

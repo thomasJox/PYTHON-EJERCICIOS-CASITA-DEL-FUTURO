{
 "cells": [
  {
   "cell_type": "markdown",
   "metadata": {},
   "source": [
    "## Operadores - Actividad"
   ]
  },
  {
   "cell_type": "markdown",
   "metadata": {},
   "source": [
    "1) Pedir al usuario dos números y mostrar por pantalla la suma de ellos."
   ]
  },
  {
   "cell_type": "code",
   "execution_count": 4,
   "metadata": {},
   "outputs": [
    {
     "name": "stdout",
     "output_type": "stream",
     "text": [
      "4\n"
     ]
    }
   ],
   "source": [
    "pedir_numero1 = input(\"por favor ingrese un numero\")\n",
    "pedir_numero2 = input(\"por favor ingrese un numero\")\n",
    "print(int(pedir_numero1) + int(pedir_numero2))"
   ]
  },
  {
   "cell_type": "markdown",
   "metadata": {},
   "source": [
    "2) Calcular el perímetro y área de un rectángulo dada su base y su altura (el usuario debe introducir por teclado los dos valores)."
   ]
  },
  {
   "cell_type": "code",
   "execution_count": 3,
   "metadata": {},
   "outputs": [
    {
     "name": "stdout",
     "output_type": "stream",
     "text": [
      "6.0\n",
      "10.0\n"
     ]
    }
   ],
   "source": [
    "base = float(input(\"Ingresa la base del rectángulo: \"))\n",
    "altura = float(input(\"Ingresa la altura del rectángulo: \"))\n",
    "\n",
    "#---------\n",
    "\n",
    "#area\n",
    "area = base * altura\n",
    "\n",
    "#---------\n",
    "\n",
    "perimetro = 2 * (base + altura)\n",
    "\n",
    "print(area)\n",
    "print(perimetro)"
   ]
  },
  {
   "cell_type": "markdown",
   "metadata": {},
   "source": [
    "3) Calcular el resultado de elevar un número entero a otro número entero (por ejemplo, 5 elevado a 3 = 5^3 = 5*5*5)."
   ]
  },
  {
   "cell_type": "code",
   "execution_count": 6,
   "metadata": {},
   "outputs": [
    {
     "name": "stdout",
     "output_type": "stream",
     "text": [
      "8\n"
     ]
    }
   ],
   "source": [
    "variable_elevada = 5 + 3\n",
    "print (variable_elevada)"
   ]
  },
  {
   "cell_type": "markdown",
   "metadata": {},
   "source": [
    "4) Escribe un programa que convierta grados Celsius a grados Fahrenheit utilizando la fórmula: **F = (C * 9/5) + 32**"
   ]
  },
  {
   "cell_type": "code",
   "execution_count": 7,
   "metadata": {},
   "outputs": [
    {
     "name": "stdout",
     "output_type": "stream",
     "text": [
      "30.0 grados Celsius son equivalentes a 86.0 grados Fahrenheit.\n"
     ]
    }
   ],
   "source": [
    "celsius = float(input(\"Ingresa la temperatura en grados Celsius: \"))\n",
    "\n",
    "fahrenheit = (celsius * 9/5) + 32\n",
    "\n",
    "print(f\"{celsius} grados Celsius son equivalentes a {fahrenheit} grados Fahrenheit.\")"
   ]
  },
  {
   "cell_type": "markdown",
   "metadata": {},
   "source": [
    "5) Pedir al usuario su edad y mostrar por pantalla si es mayor de edad o no. (Mayor de edad >= 18)"
   ]
  },
  {
   "cell_type": "code",
   "execution_count": 8,
   "metadata": {},
   "outputs": [
    {
     "name": "stdout",
     "output_type": "stream",
     "text": [
      "eres mayor de edad.\n"
     ]
    }
   ],
   "source": [
    "edad = int(input(\"ingree su edad por favor\"))\n",
    "\n",
    "if edad >= 18:\n",
    "    print(\"eres mayor de edad.\")\n",
    "else:\n",
    "    print (\"eres menor de edad.\")\n"
   ]
  },
  {
   "cell_type": "markdown",
   "metadata": {},
   "source": [
    "6) Comprobar si el numero ingresado por el usuario es par o impar."
   ]
  },
  {
   "cell_type": "code",
   "execution_count": 10,
   "metadata": {},
   "outputs": [
    {
     "name": "stdout",
     "output_type": "stream",
     "text": [
      "3 es un numero impar.\n"
     ]
    }
   ],
   "source": [
    "numero = int(input(\"Ingresa un numero: \"))\n",
    "\n",
    "if numero % 2 == 0:\n",
    "    print(f\"{numero} es un numero par.\")\n",
    "else:\n",
    "    print(f\"{numero} es un numero impar.\")"
   ]
  },
  {
   "cell_type": "markdown",
   "metadata": {},
   "source": [
    "7) Pedir al usuario que ingrese su dirección email y luego mostrar un mensaje indicando si la dirección es válida o no. Una dirección se considerará válida si contiene el símbolo \"@\"."
   ]
  },
  {
   "cell_type": "code",
   "execution_count": 11,
   "metadata": {},
   "outputs": [
    {
     "name": "stdout",
     "output_type": "stream",
     "text": [
      "la direccion de correo es valida\n"
     ]
    }
   ],
   "source": [
    "usuario_gmail = input(\"ingrese si gmail por favor\")\n",
    "\n",
    "if \"@\" in usuario_gmail:\n",
    "    print(\"la direccion de correo es valida\")\n",
    "else:\n",
    "    print(\"la direccion de correo no es valida\")"
   ]
  },
  {
   "cell_type": "markdown",
   "metadata": {},
   "source": [
    "8) Dado un número de dos cifras, diseñe un algoritmo que permita obtener el número invertido. Ejemplo, si se introduce 23 que muestre 32. (Recordar que las cadenas pueden tratarse como listas de caracteres)."
   ]
  },
  {
   "cell_type": "markdown",
   "metadata": {},
   "source": []
  },
  {
   "cell_type": "markdown",
   "metadata": {},
   "source": [
    "9) Crea un programa que pida al usuario dos números y muestre True si ambos son mayores que 10."
   ]
  },
  {
   "cell_type": "code",
   "execution_count": 16,
   "metadata": {},
   "outputs": [
    {
     "name": "stdout",
     "output_type": "stream",
     "text": [
      "True\n"
     ]
    }
   ],
   "source": [
    "numero_i = int(input(\"ingrese dos numeros\"))\n",
    "numero_ii = int(input(\"ingrese dos numeros\"))\n",
    "\n",
    "if numero_i > 10 and numero_ii > 10:\n",
    "    print(\"True\")\n",
    "else:\n",
    "    print(\"False\")"
   ]
  },
  {
   "cell_type": "markdown",
   "metadata": {},
   "source": [
    "10) Escribe un programa que verifique si un número ingresado por el usuario es divisible por 3 y por 5."
   ]
  },
  {
   "cell_type": "code",
   "execution_count": 18,
   "metadata": {},
   "outputs": [
    {
     "name": "stdout",
     "output_type": "stream",
     "text": [
      "15 es divisible por 3 y por 5.\n"
     ]
    }
   ],
   "source": [
    "numero = int(input(\"Ingresa un numero: \"))\n",
    "\n",
    "if numero % 3 == 0 and numero % 5 == 0:\n",
    "    print(f\"{numero} es divisible por 3 y por 5.\")\n",
    "else:\n",
    "    print(f\"{numero} no es divisible por 3 y por 5.\")"
   ]
  },
  {
   "cell_type": "markdown",
   "metadata": {},
   "source": [
    "11) Utilizando la información del punto 5, preguntar al usuario si posee carnet de conducir, luego verificar si puede conducir un automóvil."
   ]
  },
  {
   "cell_type": "code",
   "execution_count": 20,
   "metadata": {},
   "outputs": [
    {
     "name": "stdout",
     "output_type": "stream",
     "text": [
      "Eres mayor de edad.\n",
      "Puedes conducir un automóvil.\n"
     ]
    }
   ],
   "source": [
    "#ingrese su edad\n",
    "edad = int(input(\"Ingresa tu edad: \"))\n",
    "\n",
    "#mayor de edad?\n",
    "if edad >= 18:\n",
    "    print(\"Eres mayor de edad.\")\n",
    "    # Preguntar si posee carnet de conducir\n",
    "    tiene_carnet = input(\"¿Tienes carnet de conducir? (Sí o No): \").strip().lower()\n",
    "    if tiene_carnet == \"si\" or tiene_carnet == \"sí\":\n",
    "        print(\"Puedes conducir un automóvil.\")\n",
    "    else:\n",
    "        print(\"No puedes conducir un automóvil sin carnet de conducir.\")\n",
    "else:\n",
    "    print(\"Eres menor de edad y no puedes conducir un automóvil.\")"
   ]
  },
  {
   "cell_type": "markdown",
   "metadata": {},
   "source": [
    "12) Pide al usuario un número y verifica si es positivo y no es mayor que 100."
   ]
  },
  {
   "cell_type": "code",
   "execution_count": 21,
   "metadata": {},
   "outputs": [
    {
     "name": "stdout",
     "output_type": "stream",
     "text": [
      "El número es positivo y no es mayor que 100.\n"
     ]
    }
   ],
   "source": [
    "numero = float(input(\"Ingresa un número: \"))\n",
    "\n",
    "if numero > 0 and numero <= 100:\n",
    "    print(\"El número es positivo y no es mayor que 100.\")\n",
    "else:\n",
    "    print(\"El número no cumple con los criterios: no es positivo o es mayor que 100.\")"
   ]
  },
  {
   "cell_type": "markdown",
   "metadata": {},
   "source": [
    "13) Crear un programa que valide si un número ingresado por el usuario es par y mayor que 20."
   ]
  },
  {
   "cell_type": "code",
   "execution_count": 22,
   "metadata": {},
   "outputs": [
    {
     "name": "stdout",
     "output_type": "stream",
     "text": [
      "2 es un numero impar o no es mayor a 20.\n"
     ]
    }
   ],
   "source": [
    "numero = int(input(\"Ingresa un numero: \"))\n",
    "\n",
    "if numero % 2 == 0 and numero > 20:\n",
    "    print(f\"{numero} es un numero par y mayor a 20.\")\n",
    "else:\n",
    "    print(f\"{numero} es un numero impar o no es mayor a 20.\")"
   ]
  },
  {
   "cell_type": "markdown",
   "metadata": {},
   "source": [
    "14) Dada la variable **numero = 5**, realizar la operación necesaria para que número sea igual a 8. Luego imprimir en pantalla el nuevo valor de número y realizar una nueva operación para que el valor de número sea igual a 4 y mostrar en pantalla el nuevo valor."
   ]
  },
  {
   "cell_type": "code",
   "execution_count": null,
   "metadata": {},
   "outputs": [],
   "source": [
    "numero = 5\n",
    "numero += 3\n",
    "print(\"El nuevo valor de 'numero' es:\", numero)\n",
    "numero -= 4\n",
    "print(\"El nuevo valor de 'numero' es:\", numero)"
   ]
  },
  {
   "cell_type": "markdown",
   "metadata": {},
   "source": [
    "15) Dadas las variables altura = \"10\" y base = 5, calcular el área de un triángulo y mostrar el resultado en pantalla. ¿Por qué el resultado es un error? ¿Cómo lo corregirías?"
   ]
  },
  {
   "cell_type": "code",
   "execution_count": null,
   "metadata": {},
   "outputs": [],
   "source": [
    "base = 5\n",
    "\n",
    "altura = int(\"10\")\n",
    "\n",
    "area = (base * altura) / 2\n",
    "\n",
    "print(\"El área del triángulo es:\", area)"
   ]
  },
  {
   "cell_type": "markdown",
   "metadata": {},
   "source": [
    "16) Crea un programa que calcule el promedio de tres calificaciones ingresadas por el usuario, y comprobar si el alumno aprobó o no (aprueba con nota mayor a 6)."
   ]
  },
  {
   "cell_type": "code",
   "execution_count": 23,
   "metadata": {},
   "outputs": [
    {
     "name": "stdout",
     "output_type": "stream",
     "text": [
      "El alumno ha aprobado con un promedio de 7.67\n"
     ]
    }
   ],
   "source": [
    "class Alumno:\n",
    "    def __init__(self):\n",
    "        self.calificacion1 = 0\n",
    "        self.calificacion2 = 0\n",
    "        self.calificacion3 = 0\n",
    "\n",
    "    def ingresar_calificaciones(self):\n",
    "        self.calificacion1 = float(input(\"Ingresa la primera calificación: \"))\n",
    "        self.calificacion2 = float(input(\"Ingresa la segunda calificación: \"))\n",
    "        self.calificacion3 = float(input(\"Ingresa la tercera calificación: \"))\n",
    "\n",
    "    def calcular_promedio(self):\n",
    "        return (self.calificacion1 + self.calificacion2 + self.calificacion3) / 3\n",
    "\n",
    "    def verificar_aprobacion(self):\n",
    "        promedio = self.calcular_promedio()\n",
    "        if promedio > 6:\n",
    "            return \"El alumno ha aprobado con un promedio de {:.2f}\".format(promedio)\n",
    "        else:\n",
    "            return \"El alumno no ha aprobado con un promedio de {:.2f}\".format(promedio)\n",
    "\n",
    "alumno = Alumno()\n",
    "alumno.ingresar_calificaciones()\n",
    "resultado = alumno.verificar_aprobacion()\n",
    "print(resultado)"
   ]
  },
  {
   "cell_type": "markdown",
   "metadata": {},
   "source": [
    "17) Pide al usuario su edad y calcula cuántos días, horas y minutos ha vivido aproximadamente (asumiendo 365 días por año)."
   ]
  },
  {
   "cell_type": "code",
   "execution_count": 24,
   "metadata": {},
   "outputs": [
    {
     "name": "stdout",
     "output_type": "stream",
     "text": [
      "Has vivido aproximadamente 7300 días, 175200 horas y 10512000 minutos.\n"
     ]
    }
   ],
   "source": [
    "edad = int(input(\"Ingresa tu edad: \"))\n",
    "\n",
    "dias_vividos = edad * 365\n",
    "\n",
    "horas_vividas = dias_vividos * 24\n",
    "minutos_vividos = horas_vividas * 60\n",
    "\n",
    "print(f\"Has vivido aproximadamente {dias_vividos} días, {horas_vividas} horas y {minutos_vividos} minutos.\")"
   ]
  },
  {
   "cell_type": "markdown",
   "metadata": {},
   "source": [
    "18) Crea un programa que verifique si un número ingresado por el usuario es múltiplo de 4 y de 6 al mismo tiempo."
   ]
  },
  {
   "cell_type": "code",
   "execution_count": 25,
   "metadata": {},
   "outputs": [
    {
     "name": "stdout",
     "output_type": "stream",
     "text": [
      "24 es múltiplo de 4 y de 6 al mismo tiempo.\n"
     ]
    }
   ],
   "source": [
    "numero = int(input(\"Ingresa un número: \"))\n",
    "\n",
    "# Comprobar si el número es múltiplo de 4 y de 6 al mismo tiempo\n",
    "if numero % 4 == 0 and numero % 6 == 0:\n",
    "    print(f\"{numero} es múltiplo de 4 y de 6 al mismo tiempo.\")\n",
    "else:\n",
    "    print(f\"{numero} no es múltiplo de 4 y de 6 al mismo tiempo.\")"
   ]
  },
  {
   "cell_type": "markdown",
   "metadata": {},
   "source": [
    "19) "
   ]
  }
 ],
 "metadata": {
  "kernelspec": {
   "display_name": "Python 3",
   "language": "python",
   "name": "python3"
  },
  "language_info": {
   "codemirror_mode": {
    "name": "ipython",
    "version": 3
   },
   "file_extension": ".py",
   "mimetype": "text/x-python",
   "name": "python",
   "nbconvert_exporter": "python",
   "pygments_lexer": "ipython3",
   "version": "3.12.0"
  }
 },
 "nbformat": 4,
 "nbformat_minor": 2
}
